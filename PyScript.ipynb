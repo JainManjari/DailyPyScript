{
 "cells": [
  {
   "cell_type": "code",
   "execution_count": 5,
   "id": "d138cb1d-18f5-4a5e-b422-ea7bd1674925",
   "metadata": {},
   "outputs": [
    {
     "name": "stdout",
     "output_type": "stream",
     "text": [
      "pip 24.2 from /opt/homebrew/lib/python3.12/site-packages/pip (python 3.12)\n"
     ]
    }
   ],
   "source": [
    "!pip3 --version"
   ]
  },
  {
   "cell_type": "code",
   "execution_count": 7,
   "id": "365c2b64-5d90-4b34-b78f-73f07620d763",
   "metadata": {},
   "outputs": [
    {
     "name": "stdout",
     "output_type": "stream",
     "text": [
      "Collecting gitpython\n",
      "  Downloading GitPython-3.1.44-py3-none-any.whl.metadata (13 kB)\n",
      "Collecting gitdb<5,>=4.0.1 (from gitpython)\n",
      "  Downloading gitdb-4.0.12-py3-none-any.whl.metadata (1.2 kB)\n",
      "Collecting smmap<6,>=3.0.1 (from gitdb<5,>=4.0.1->gitpython)\n",
      "  Downloading smmap-5.0.2-py3-none-any.whl.metadata (4.3 kB)\n",
      "Downloading GitPython-3.1.44-py3-none-any.whl (207 kB)\n",
      "Downloading gitdb-4.0.12-py3-none-any.whl (62 kB)\n",
      "Downloading smmap-5.0.2-py3-none-any.whl (24 kB)\n",
      "Installing collected packages: smmap, gitdb, gitpython\n",
      "Successfully installed gitdb-4.0.12 gitpython-3.1.44 smmap-5.0.2\n",
      "\n",
      "\u001b[1m[\u001b[0m\u001b[34;49mnotice\u001b[0m\u001b[1;39;49m]\u001b[0m\u001b[39;49m A new release of pip is available: \u001b[0m\u001b[31;49m24.2\u001b[0m\u001b[39;49m -> \u001b[0m\u001b[32;49m24.3.1\u001b[0m\n",
      "\u001b[1m[\u001b[0m\u001b[34;49mnotice\u001b[0m\u001b[1;39;49m]\u001b[0m\u001b[39;49m To update, run: \u001b[0m\u001b[32;49mpython3.12 -m pip install --upgrade pip\u001b[0m\n"
     ]
    }
   ],
   "source": [
    "!pip3 install gitpython --break-system-packages"
   ]
  },
  {
   "cell_type": "code",
   "execution_count": 46,
   "id": "97fb147d-c2b0-4338-bd63-816b6859a0d5",
   "metadata": {},
   "outputs": [],
   "source": [
    "import os\n",
    "from git import Repo\n",
    "import time"
   ]
  },
  {
   "cell_type": "code",
   "execution_count": 49,
   "id": "b07fca57-6a6d-41ed-8f3c-c14df4bbe917",
   "metadata": {},
   "outputs": [],
   "source": [
    "# Set your repository path and file details\n",
    "repo_path = \"/Users/manjarijain/Desktop/Git/DailyPyScript\"  # Path to your local Git repository\n",
    "file_to_edit = \"DailyUpdates.txt\"  # File you want to edit\n",
    "commit_message = getString(\"Update DailyUpdates.txt\", epoch_time)"
   ]
  },
  {
   "cell_type": "code",
   "execution_count": 50,
   "id": "189d9f31-edbf-4fcf-a223-6b748bb78ab6",
   "metadata": {},
   "outputs": [],
   "source": [
    "github_remote_name = \"origin\"\n",
    "branch_name = \"main\" "
   ]
  },
  {
   "cell_type": "code",
   "execution_count": 51,
   "id": "735d1574-f973-4787-b249-2afff26bcb60",
   "metadata": {},
   "outputs": [],
   "source": [
    "def getString(content, epoch_time):\n",
    "    return (content+\" at epoch {epoch}\").format(epoch=epoch_time)"
   ]
  },
  {
   "cell_type": "code",
   "execution_count": 52,
   "id": "1cb09c66-ca65-42a6-93ae-0690964b4f41",
   "metadata": {},
   "outputs": [],
   "source": [
    "def edit_file(file_path, content_to_add):\n",
    "    try:\n",
    "        with open(file_path, \"a\") as file:\n",
    "            file.write(content_to_add)\n",
    "        print(f\"File '{file_path}' updated successfully.\")\n",
    "    except Exception as e:\n",
    "        print(f\"Error updating file: {e}\")"
   ]
  },
  {
   "cell_type": "code",
   "execution_count": 60,
   "id": "05fe0218-f8b3-4d6f-b53b-787f8933b213",
   "metadata": {},
   "outputs": [],
   "source": [
    "def push_to_github(repo, commit_message):\n",
    "    try:\n",
    "        # Add changes to the staging area\n",
    "        repo.git.add(update=True)\n",
    "\n",
    "        # Commit the changes\n",
    "        repo.index.commit(commit_message)\n",
    "        print(f\"Committed changes with message: '{commit_message}'\")\n",
    "\n",
    "        # Push changes to GitHub\n",
    "        remote = repo.remote(name=github_remote_name)\n",
    "        remote.push(branch_name)\n",
    "        print(f\"Changes pushed to GitHub on branch '{branch_name}'.\")\n",
    "    except Exception as e:\n",
    "        print(f\"Error pushing to GitHub: {e}\")"
   ]
  },
  {
   "cell_type": "code",
   "execution_count": 56,
   "id": "a66c0f7f-ab8c-4e57-a68a-3e7467658d20",
   "metadata": {},
   "outputs": [],
   "source": [
    "def main():\n",
    "    # Initialize the repository\n",
    "    try:\n",
    "        epoch_time = int(time.time())\n",
    "        repo = Repo(repo_path)\n",
    "        if repo.bare:\n",
    "            print(\"Repository not initialized. Please check the repository path.\")\n",
    "            return\n",
    "\n",
    "        # Edit the file\n",
    "        file_path = os.path.join(repo_path, file_to_edit)\n",
    "        content_to_add = getString(\"\\nNew content added via Python script\", epoch_time)\n",
    "        edit_file(file_path, content_to_add)\n",
    "\n",
    "        # Push to githu\n",
    "\n",
    "    except Exception as e:\n",
    "        print(f\"Error with the repository: {e}\")"
   ]
  },
  {
   "cell_type": "code",
   "execution_count": 59,
   "id": "9d49f13b-2d7e-4702-b3aa-5a69974f14fc",
   "metadata": {},
   "outputs": [
    {
     "name": "stdout",
     "output_type": "stream",
     "text": [
      "File '/Users/manjarijain/Desktop/Git/DailyPyScript/DailyUpdates.txt' updated successfully.\n"
     ]
    }
   ],
   "source": [
    "if __name__ == \"__main__\":\n",
    "    main()"
   ]
  },
  {
   "cell_type": "code",
   "execution_count": null,
   "id": "cdc45555-d4e7-4d38-9329-a151f65f7ad6",
   "metadata": {},
   "outputs": [],
   "source": []
  }
 ],
 "metadata": {
  "kernelspec": {
   "display_name": "Python 3 (ipykernel)",
   "language": "python",
   "name": "python3"
  },
  "language_info": {
   "codemirror_mode": {
    "name": "ipython",
    "version": 3
   },
   "file_extension": ".py",
   "mimetype": "text/x-python",
   "name": "python",
   "nbconvert_exporter": "python",
   "pygments_lexer": "ipython3",
   "version": "3.12.7"
  }
 },
 "nbformat": 4,
 "nbformat_minor": 5
}
